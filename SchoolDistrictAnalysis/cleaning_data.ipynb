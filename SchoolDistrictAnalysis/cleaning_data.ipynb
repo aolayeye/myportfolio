{
 "cells": [
  {
   "cell_type": "code",
   "execution_count": 4,
   "id": "622a7856",
   "metadata": {},
   "outputs": [
    {
     "data": {
      "text/plain": [
       "Student ID         int64\n",
       "student_name      object\n",
       "gender            object\n",
       "grade             object\n",
       "reading_score    float64\n",
       "math_score       float64\n",
       "dtype: object"
      ]
     },
     "execution_count": 4,
     "metadata": {},
     "output_type": "execute_result"
    }
   ],
   "source": [
    "import pandas as pd\n",
    "file_to_load = \"Resources/missing_grades.csv\"\n",
    "missing_grades_df = pd.read_csv(file_to_load)\n",
    "missing_grades_df.count()\n",
    "missing_grades_df.fillna(85)\n",
    "missing_grades_df.dtypes"
   ]
  },
  {
   "cell_type": "code",
   "execution_count": 6,
   "id": "04bd87e4",
   "metadata": {},
   "outputs": [
    {
     "name": "stdout",
     "output_type": "stream",
     "text": [
      "['Mrs.', 'Linda', 'Santiago'] 3\n"
     ]
    }
   ],
   "source": [
    "name = \"Mrs. Linda Santiago\"\n",
    "print(name.split(), len(name.split()))"
   ]
  },
  {
   "cell_type": "code",
   "execution_count": null,
   "id": "87a4c0b9",
   "metadata": {},
   "outputs": [],
   "source": []
  }
 ],
 "metadata": {
  "kernelspec": {
   "display_name": "PythonData",
   "language": "python",
   "name": "pythondata"
  },
  "language_info": {
   "codemirror_mode": {
    "name": "ipython",
    "version": 3
   },
   "file_extension": ".py",
   "mimetype": "text/x-python",
   "name": "python",
   "nbconvert_exporter": "python",
   "pygments_lexer": "ipython3",
   "version": "3.8.8"
  }
 },
 "nbformat": 4,
 "nbformat_minor": 5
}
