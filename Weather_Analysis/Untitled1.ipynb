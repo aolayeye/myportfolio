{
 "cells": [
  {
   "cell_type": "code",
   "execution_count": 1,
   "id": "272648b7",
   "metadata": {},
   "outputs": [],
   "source": [
    "data = {'coord': {'lon': -71.0598, 'lat': 42.3584},\n",
    " 'weather': [{'id': 802,\n",
    "   'main': 'Clouds',\n",
    "   'description': 'scattered clouds',\n",
    "   'icon': '03d'}],\n",
    " 'base': 'stations',\n",
    " 'main': {'temp': 88.65,\n",
    "  'feels_like': 91.38,\n",
    "  'temp_min': 80.35,\n",
    "  'temp_max': 93.13,\n",
    "  'pressure': 1010,\n",
    "  'humidity': 48},\n",
    " 'visibility': 10000,\n",
    " 'wind': {'speed': 7, 'deg': 251, 'gust': 17},\n",
    " 'clouds': {'all': 40},\n",
    " 'dt': 1622059446,\n",
    " 'sys': {'type': 2,\n",
    "  'id': 2013408,\n",
    "  'country': 'US',\n",
    "  'sunrise': 1622020409,\n",
    "  'sunset': 1622074169},\n",
    " 'timezone': -14400,\n",
    " 'id': 4930956,\n",
    " 'name': 'Boston',\n",
    " 'cod': 200}"
   ]
  },
  {
   "cell_type": "markdown",
   "id": "5978cd7f",
   "metadata": {},
   "source": []
  },
  {
   "cell_type": "code",
   "execution_count": 17,
   "id": "230020c0",
   "metadata": {},
   "outputs": [
    {
     "data": {
      "text/plain": [
       "'scattered clouds'"
      ]
     },
     "execution_count": 17,
     "metadata": {},
     "output_type": "execute_result"
    }
   ],
   "source": [
    "data[\"weather\"][0][\"description\"]"
   ]
  },
  {
   "cell_type": "code",
   "execution_count": null,
   "id": "75cc0b58",
   "metadata": {},
   "outputs": [],
   "source": []
  }
 ],
 "metadata": {
  "kernelspec": {
   "display_name": "PythonData",
   "language": "python",
   "name": "pythondata"
  },
  "language_info": {
   "codemirror_mode": {
    "name": "ipython",
    "version": 3
   },
   "file_extension": ".py",
   "mimetype": "text/x-python",
   "name": "python",
   "nbconvert_exporter": "python",
   "pygments_lexer": "ipython3",
   "version": "3.8.8"
  }
 },
 "nbformat": 4,
 "nbformat_minor": 5
}
