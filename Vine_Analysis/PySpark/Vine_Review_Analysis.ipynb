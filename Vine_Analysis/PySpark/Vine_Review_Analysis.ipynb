{
  "nbformat": 4,
  "nbformat_minor": 0,
  "metadata": {
    "colab": {
      "name": "Vine_Review_Analysis.ipynb",
      "provenance": []
    },
    "kernelspec": {
      "name": "python3",
      "display_name": "Python 3"
    },
    "language_info": {
      "name": "python"
    }
  },
  "cells": [
    {
      "cell_type": "code",
      "metadata": {
        "colab": {
          "base_uri": "https://localhost:8080/"
        },
        "id": "v0ZqzNbsFesE",
        "outputId": "3943f62a-3072-408f-cb21-d5d1e3d97092"
      },
      "source": [
        "import os\n",
        "spark_version = 'spark-3.1.2'\n",
        "os.environ['SPARK_VERSION']=spark_version\n",
        "\n",
        "# Install Spark and Java\n",
        "!apt-get update\n",
        "!apt-get install openjdk-11-jdk-headless -qq > /dev/null\n",
        "!wget -q http://www.apache.org/dist/spark/$SPARK_VERSION/$SPARK_VERSION-bin-hadoop2.7.tgz\n",
        "!tar xf $SPARK_VERSION-bin-hadoop2.7.tgz\n",
        "!pip install -q findspark\n",
        "\n",
        "# Set Environment Variables\n",
        "import os\n",
        "os.environ[\"JAVA_HOME\"] = \"/usr/lib/jvm/java-11-openjdk-amd64\"\n",
        "os.environ[\"SPARK_HOME\"] = f\"/content/{spark_version}-bin-hadoop2.7\"\n",
        "\n",
        "# Start a SparkSession\n",
        "import findspark\n",
        "findspark.init()"
      ],
      "execution_count": 1,
      "outputs": [
        {
          "output_type": "stream",
          "text": [
            "\r0% [Working]\r            \rHit:1 https://cloud.r-project.org/bin/linux/ubuntu bionic-cran40/ InRelease\n",
            "Hit:2 http://security.ubuntu.com/ubuntu bionic-security InRelease\n",
            "Ign:3 https://developer.download.nvidia.com/compute/cuda/repos/ubuntu1804/x86_64  InRelease\n",
            "Hit:4 http://ppa.launchpad.net/c2d4u.team/c2d4u4.0+/ubuntu bionic InRelease\n",
            "Ign:5 https://developer.download.nvidia.com/compute/machine-learning/repos/ubuntu1804/x86_64  InRelease\n",
            "Hit:6 https://developer.download.nvidia.com/compute/cuda/repos/ubuntu1804/x86_64  Release\n",
            "Hit:7 https://developer.download.nvidia.com/compute/machine-learning/repos/ubuntu1804/x86_64  Release\n",
            "Hit:8 http://archive.ubuntu.com/ubuntu bionic InRelease\n",
            "Hit:9 http://ppa.launchpad.net/cran/libgit2/ubuntu bionic InRelease\n",
            "Hit:10 http://archive.ubuntu.com/ubuntu bionic-updates InRelease\n",
            "Hit:11 http://archive.ubuntu.com/ubuntu bionic-backports InRelease\n",
            "Hit:12 http://ppa.launchpad.net/deadsnakes/ppa/ubuntu bionic InRelease\n",
            "Hit:13 http://ppa.launchpad.net/graphics-drivers/ppa/ubuntu bionic InRelease\n",
            "Reading package lists... Done\n"
          ],
          "name": "stdout"
        }
      ]
    },
    {
      "cell_type": "code",
      "metadata": {
        "colab": {
          "base_uri": "https://localhost:8080/"
        },
        "id": "qfiArwJxHVrC",
        "outputId": "14043685-7109-4d1a-9f88-68ae297d51e3"
      },
      "source": [
        "# Download the Postgres driver that will allow Spark to interact with Postgres.\n",
        "!wget https://jdbc.postgresql.org/download/postgresql-42.2.16.jar"
      ],
      "execution_count": 2,
      "outputs": [
        {
          "output_type": "stream",
          "text": [
            "--2021-08-09 21:31:59--  https://jdbc.postgresql.org/download/postgresql-42.2.16.jar\n",
            "Resolving jdbc.postgresql.org (jdbc.postgresql.org)... 72.32.157.228, 2001:4800:3e1:1::228\n",
            "Connecting to jdbc.postgresql.org (jdbc.postgresql.org)|72.32.157.228|:443... connected.\n",
            "HTTP request sent, awaiting response... 200 OK\n",
            "Length: 1002883 (979K) [application/java-archive]\n",
            "Saving to: ‘postgresql-42.2.16.jar.3’\n",
            "\n",
            "postgresql-42.2.16. 100%[===================>] 979.38K  --.-KB/s    in 0.08s   \n",
            "\n",
            "2021-08-09 21:32:00 (11.3 MB/s) - ‘postgresql-42.2.16.jar.3’ saved [1002883/1002883]\n",
            "\n"
          ],
          "name": "stdout"
        }
      ]
    },
    {
      "cell_type": "code",
      "metadata": {
        "id": "fC1z_DhAG8BX"
      },
      "source": [
        "from pyspark.sql import SparkSession\n",
        "spark = SparkSession.builder.appName(\"M16-Amazon-Challenge-D2\").config(\"spark.driver.extraClassPath\",\"/content/postgresql-42.2.16.jar\").getOrCreate()"
      ],
      "execution_count": 3,
      "outputs": []
    },
    {
      "cell_type": "markdown",
      "metadata": {
        "id": "L_h5D9RRHurW"
      },
      "source": [
        "**Load Amazon Data into Spark DataFrame**"
      ]
    },
    {
      "cell_type": "code",
      "metadata": {
        "colab": {
          "base_uri": "https://localhost:8080/"
        },
        "id": "8IPfqkeJH0Tb",
        "outputId": "47235efd-530c-4d8b-ff26-739e40dd4de3"
      },
      "source": [
        "from pyspark import SparkFiles\n",
        "url = \"https://s3.us-east-2.amazonaws.com/aws.nw.bootcamp.0805/amazon_reviews_us_Video_Games_v1_00.tsv\"\n",
        "spark.sparkContext.addFile(url)\n",
        "df = spark.read.option(\"encoding\", \"UTF-8\").csv(SparkFiles.get(\"\"), sep=\"\\t\", header=True, inferSchema=True)\n",
        "df.show()"
      ],
      "execution_count": 4,
      "outputs": [
        {
          "output_type": "stream",
          "text": [
            "+-----------+-----------+--------------+----------+--------------+--------------------+----------------+-----------+-------------+-----------+----+-----------------+--------------------+--------------------+-----------+\n",
            "|marketplace|customer_id|     review_id|product_id|product_parent|       product_title|product_category|star_rating|helpful_votes|total_votes|vine|verified_purchase|     review_headline|         review_body|review_date|\n",
            "+-----------+-----------+--------------+----------+--------------+--------------------+----------------+-----------+-------------+-----------+----+-----------------+--------------------+--------------------+-----------+\n",
            "|         US|   12039526| RTIS3L2M1F5SM|B001CXYMFS|     737716809|Thrustmaster T-Fl...|     Video Games|          5|            0|          0|   N|                Y|an amazing joysti...|Used this for Eli...| 2015-08-31|\n",
            "|         US|    9636577| R1ZV7R40OLHKD|B00M920ND6|     569686175|Tonsee 6 buttons ...|     Video Games|          5|            0|          0|   N|                Y|Definitely a sile...|Loved it,  I didn...| 2015-08-31|\n",
            "|         US|    2331478|R3BH071QLH8QMC|B0029CSOD2|      98937668|Hidden Mysteries:...|     Video Games|          1|            0|          1|   N|                Y|            One Star|poor quality work...| 2015-08-31|\n",
            "|         US|   52495923|R127K9NTSXA2YH|B00GOOSV98|      23143350|GelTabz Performan...|     Video Games|          3|            0|          0|   N|                Y|good, but could b...|nice, but tend to...| 2015-08-31|\n",
            "|         US|   14533949|R32ZWUXDJPW27Q|B00Y074JOM|     821342511|Zero Suit Samus a...|     Video Games|          4|            0|          0|   N|                Y|   Great but flawed.|Great amiibo, gre...| 2015-08-31|\n",
            "|         US|    2377552|R3AQQ4YUKJWBA6|B002UBI6W6|     328764615|Psyclone Recharge...|     Video Games|          1|            0|          0|   N|                Y|            One Star|The remote consta...| 2015-08-31|\n",
            "|         US|   17521011|R2F0POU5K6F73F|B008XHCLFO|      24234603|Protection for yo...|     Video Games|          5|            0|          0|   N|                Y|              A Must|I have a 2012-201...| 2015-08-31|\n",
            "|         US|   19676307|R3VNR804HYSMR6|B00BRA9R6A|     682267517|   Nerf 3DS XL Armor|     Video Games|          5|            0|          0|   N|                Y|          Five Stars|Perfect, kids lov...| 2015-08-31|\n",
            "|         US|     224068| R3GZTM72WA2QH|B009EPWJLA|     435241890|One Piece: Pirate...|     Video Games|          5|            0|          0|   N|                Y|          Five Stars|            Excelent| 2015-08-31|\n",
            "|         US|   48467989| RNQOY62705W1K|B0000AV7GB|     256572651|Playstation 2 Dan...|     Video Games|          4|            0|          0|   N|                Y|          Four Stars|Slippery but expe...| 2015-08-31|\n",
            "|         US|     106569|R1VTIA3JTYBY02|B00008KTNN|     384411423|Metal Arms: Glitc...|     Video Games|          5|            0|          0|   N|                N|          Five Stars|Love the game. Se...| 2015-08-31|\n",
            "|         US|   48269642|R29DOU8791QZL8|B000A3IA0Y|     472622859|72 Pin Connector ...|     Video Games|          1|            0|          0|   N|                Y| Game will get stuck|Does not fit prop...| 2015-08-31|\n",
            "|         US|   52738710|R15DUT1VIJ9RJZ|B0053BQN34|     577628462|uDraw Gametablet ...|     Video Games|          2|            0|          0|   N|                Y|We have tried it ...|This was way too ...| 2015-08-31|\n",
            "|         US|   10556786|R3IMF2MQ3OU9ZM|B002I0HIMI|     988218515|NBA 2K12(Covers M...|     Video Games|          4|            0|          0|   N|                Y|          Four Stars|Works great good ...| 2015-08-31|\n",
            "|         US|    2963837|R23H79DHOZTYAU|B0081EH12M|     770100932|New Trigger Grips...|     Video Games|          1|            1|          1|   N|                Y|Now i have to buy...|It did not fit th...| 2015-08-31|\n",
            "|         US|   23092109| RIV24EQAIXA4O|B005FMLZQQ|      24647669|Xbox 360 Media Re...|     Video Games|          5|            0|          0|   N|                Y|          Five Stars|perfect lightweig...| 2015-08-31|\n",
            "|         US|   23091728|R3UCNGYDVN24YB|B002BSA388|      33706205|Super Mario Galaxy 2|     Video Games|          5|            0|          0|   N|                Y|          Five Stars|               great| 2015-08-31|\n",
            "|         US|   10712640| RUL4H4XTTN2DY|B00BUSLSAC|     829667834|Nintendo 3DS XL -...|     Video Games|          5|            0|          0|   N|                Y|          Five Stars|Works beautifully...| 2015-08-31|\n",
            "|         US|   17455376|R20JF7Z4DHTNX5|B00KWF38AW|     110680188|Captain Toad:  Tr...|     Video Games|          5|            0|          0|   N|                Y|          Five Stars|Kids loved the ga...| 2015-08-31|\n",
            "|         US|   14754850|R2T1AJ5MFI2260|B00BRQJYA8|     616463426|Lego Batman 2: DC...|     Video Games|          4|            0|          0|   N|                Y|          Four Stars|           Goodngame| 2015-08-31|\n",
            "+-----------+-----------+--------------+----------+--------------+--------------------+----------------+-----------+-------------+-----------+----+-----------------+--------------------+--------------------+-----------+\n",
            "only showing top 20 rows\n",
            "\n"
          ],
          "name": "stdout"
        }
      ]
    },
    {
      "cell_type": "code",
      "metadata": {
        "id": "C8REmY1aY-9u"
      },
      "source": [
        "from pyspark.sql.functions import to_date\n",
        "from pyspark.sql.functions import col,when,count\n",
        "from pyspark.sql.types import StructType,StructField, StringType, IntegerType\n",
        "# Read in the Review dataset as a DataFrame\n"
      ],
      "execution_count": 5,
      "outputs": []
    },
    {
      "cell_type": "code",
      "metadata": {
        "colab": {
          "base_uri": "https://localhost:8080/"
        },
        "id": "JN-qVMe6JEoO",
        "outputId": "31c76ad1-14f2-45c8-b11e-2d63b956e7e7"
      },
      "source": [
        "# Create the vine_table. DataFrame\n",
        "vine_table = df.select([\"review_id\", \"star_rating\", \"helpful_votes\", \"total_votes\", \"vine\", \"verified_purchase\"])\n",
        "vine_table.show()"
      ],
      "execution_count": 6,
      "outputs": [
        {
          "output_type": "stream",
          "text": [
            "+--------------+-----------+-------------+-----------+----+-----------------+\n",
            "|     review_id|star_rating|helpful_votes|total_votes|vine|verified_purchase|\n",
            "+--------------+-----------+-------------+-----------+----+-----------------+\n",
            "| RTIS3L2M1F5SM|          5|            0|          0|   N|                Y|\n",
            "| R1ZV7R40OLHKD|          5|            0|          0|   N|                Y|\n",
            "|R3BH071QLH8QMC|          1|            0|          1|   N|                Y|\n",
            "|R127K9NTSXA2YH|          3|            0|          0|   N|                Y|\n",
            "|R32ZWUXDJPW27Q|          4|            0|          0|   N|                Y|\n",
            "|R3AQQ4YUKJWBA6|          1|            0|          0|   N|                Y|\n",
            "|R2F0POU5K6F73F|          5|            0|          0|   N|                Y|\n",
            "|R3VNR804HYSMR6|          5|            0|          0|   N|                Y|\n",
            "| R3GZTM72WA2QH|          5|            0|          0|   N|                Y|\n",
            "| RNQOY62705W1K|          4|            0|          0|   N|                Y|\n",
            "|R1VTIA3JTYBY02|          5|            0|          0|   N|                N|\n",
            "|R29DOU8791QZL8|          1|            0|          0|   N|                Y|\n",
            "|R15DUT1VIJ9RJZ|          2|            0|          0|   N|                Y|\n",
            "|R3IMF2MQ3OU9ZM|          4|            0|          0|   N|                Y|\n",
            "|R23H79DHOZTYAU|          1|            1|          1|   N|                Y|\n",
            "| RIV24EQAIXA4O|          5|            0|          0|   N|                Y|\n",
            "|R3UCNGYDVN24YB|          5|            0|          0|   N|                Y|\n",
            "| RUL4H4XTTN2DY|          5|            0|          0|   N|                Y|\n",
            "|R20JF7Z4DHTNX5|          5|            0|          0|   N|                Y|\n",
            "|R2T1AJ5MFI2260|          4|            0|          0|   N|                Y|\n",
            "+--------------+-----------+-------------+-----------+----+-----------------+\n",
            "only showing top 20 rows\n",
            "\n"
          ],
          "name": "stdout"
        }
      ]
    },
    {
      "cell_type": "code",
      "metadata": {
        "colab": {
          "base_uri": "https://localhost:8080/"
        },
        "id": "yCg1bo1jttcC",
        "outputId": "9301c824-71a8-4913-ccbe-268aa0341db2"
      },
      "source": [
        "# Filter the data and create a new DataFrame to retrieve rows where the total_votes count is equal to or greater than 20\n",
        "filtered_votes_df = vine_table.filter(df[\"total_votes\"]>=20)\n",
        "filtered_votes_df.show()"
      ],
      "execution_count": 7,
      "outputs": [
        {
          "output_type": "stream",
          "text": [
            "+--------------+-----------+-------------+-----------+----+-----------------+\n",
            "|     review_id|star_rating|helpful_votes|total_votes|vine|verified_purchase|\n",
            "+--------------+-----------+-------------+-----------+----+-----------------+\n",
            "| R4PKAZRQJJX14|          1|           21|         34|   N|                N|\n",
            "|R2CI0Y288CC7E2|          1|           21|         35|   N|                Y|\n",
            "|R127WEQY2FM1T3|          1|          147|        175|   N|                Y|\n",
            "|R3EZ0EPYLDA34S|          1|           14|         31|   N|                Y|\n",
            "|R2FJ94555FZH32|          2|           55|         60|   N|                N|\n",
            "|R1U3AR67RE273L|          1|           51|         65|   N|                Y|\n",
            "|R3PZOXA5X1U8KW|          4|           31|         36|   N|                N|\n",
            "| R6KTC1OPIOIIG|          2|           19|         34|   N|                Y|\n",
            "|R36O341WWXXKNP|          5|           28|         31|   N|                N|\n",
            "|R3GSK9MM8DNOYI|          1|            4|         32|   N|                N|\n",
            "|R10LZVBLQHBVJ0|          2|          151|        198|   N|                N|\n",
            "|R1VR5GLGY1GE7N|          1|           49|         51|   N|                Y|\n",
            "|R3GUUC6NT4QMCL|          1|            5|         36|   N|                N|\n",
            "|R1ZSD020RT18I5|          1|            7|        139|   N|                N|\n",
            "|R113X48B575ASY|          1|           15|         45|   N|                N|\n",
            "| RJLYLGRYH7SFQ|          1|           34|        116|   N|                N|\n",
            "|R2OWDAR0EDEPTF|          1|           23|         28|   N|                N|\n",
            "|R3CICXKAHN6NUD|          1|            0|         23|   N|                Y|\n",
            "|R29BOS5HMAY1LO|          5|           88|        110|   N|                N|\n",
            "| R8WD0136CETA7|          2|           99|        119|   N|                N|\n",
            "+--------------+-----------+-------------+-----------+----+-----------------+\n",
            "only showing top 20 rows\n",
            "\n"
          ],
          "name": "stdout"
        }
      ]
    },
    {
      "cell_type": "code",
      "metadata": {
        "colab": {
          "base_uri": "https://localhost:8080/"
        },
        "id": "td2iq7LsxFUG",
        "outputId": "c8c329da-9f30-44fd-d739-0ea62baa4d37"
      },
      "source": [
        "filtered_votes_df.createOrReplaceTempView(\"filtered_votes_table\")\n",
        "effective_votes = spark.sql(\"select ROUND(CAST(helpful_votes AS FLOAT)/CAST(total_votes AS FLOAT),2) AS useful_votes from \\\n",
        "filtered_votes_table where CAST(helpful_votes AS FLOAT)/CAST(total_votes AS FLOAT) >=0.5 \" )\n",
        "effective_votes.show(5)"
      ],
      "execution_count": 8,
      "outputs": [
        {
          "output_type": "stream",
          "text": [
            "+------------+\n",
            "|useful_votes|\n",
            "+------------+\n",
            "|        0.62|\n",
            "|         0.6|\n",
            "|        0.84|\n",
            "|        0.92|\n",
            "|        0.78|\n",
            "+------------+\n",
            "only showing top 5 rows\n",
            "\n"
          ],
          "name": "stdout"
        }
      ]
    },
    {
      "cell_type": "code",
      "metadata": {
        "colab": {
          "base_uri": "https://localhost:8080/"
        },
        "id": "Hu0A13Imdv7D",
        "outputId": "97d353df-1166-4048-9299-e3dac1ae6b5a"
      },
      "source": [
        "import pyspark.sql.functions as f\n",
        "filtered_votes_df= filtered_votes_df.withColumn(\"useful_votes\", f.round((filtered_votes_df.helpful_votes/filtered_votes_df.total_votes),2))\n",
        "filtered_votes_df.show()"
      ],
      "execution_count": 9,
      "outputs": [
        {
          "output_type": "stream",
          "text": [
            "+--------------+-----------+-------------+-----------+----+-----------------+------------+\n",
            "|     review_id|star_rating|helpful_votes|total_votes|vine|verified_purchase|useful_votes|\n",
            "+--------------+-----------+-------------+-----------+----+-----------------+------------+\n",
            "| R4PKAZRQJJX14|          1|           21|         34|   N|                N|        0.62|\n",
            "|R2CI0Y288CC7E2|          1|           21|         35|   N|                Y|         0.6|\n",
            "|R127WEQY2FM1T3|          1|          147|        175|   N|                Y|        0.84|\n",
            "|R3EZ0EPYLDA34S|          1|           14|         31|   N|                Y|        0.45|\n",
            "|R2FJ94555FZH32|          2|           55|         60|   N|                N|        0.92|\n",
            "|R1U3AR67RE273L|          1|           51|         65|   N|                Y|        0.78|\n",
            "|R3PZOXA5X1U8KW|          4|           31|         36|   N|                N|        0.86|\n",
            "| R6KTC1OPIOIIG|          2|           19|         34|   N|                Y|        0.56|\n",
            "|R36O341WWXXKNP|          5|           28|         31|   N|                N|         0.9|\n",
            "|R3GSK9MM8DNOYI|          1|            4|         32|   N|                N|        0.13|\n",
            "|R10LZVBLQHBVJ0|          2|          151|        198|   N|                N|        0.76|\n",
            "|R1VR5GLGY1GE7N|          1|           49|         51|   N|                Y|        0.96|\n",
            "|R3GUUC6NT4QMCL|          1|            5|         36|   N|                N|        0.14|\n",
            "|R1ZSD020RT18I5|          1|            7|        139|   N|                N|        0.05|\n",
            "|R113X48B575ASY|          1|           15|         45|   N|                N|        0.33|\n",
            "| RJLYLGRYH7SFQ|          1|           34|        116|   N|                N|        0.29|\n",
            "|R2OWDAR0EDEPTF|          1|           23|         28|   N|                N|        0.82|\n",
            "|R3CICXKAHN6NUD|          1|            0|         23|   N|                Y|         0.0|\n",
            "|R29BOS5HMAY1LO|          5|           88|        110|   N|                N|         0.8|\n",
            "| R8WD0136CETA7|          2|           99|        119|   N|                N|        0.83|\n",
            "+--------------+-----------+-------------+-----------+----+-----------------+------------+\n",
            "only showing top 20 rows\n",
            "\n"
          ],
          "name": "stdout"
        }
      ]
    },
    {
      "cell_type": "code",
      "metadata": {
        "colab": {
          "base_uri": "https://localhost:8080/"
        },
        "id": "XUi6MOZauLcC",
        "outputId": "46fb8229-8da9-4bbd-9588-c9f15e549852"
      },
      "source": [
        "# Retrieve rows where the number of helpful_votes divided by total_votes is equal to or greater than 50% (sql query)\n",
        "filtered_votes_df.createOrReplaceTempView(\"filtered_votes_table\")\n",
        "helpful_votes_df = spark.sql(\"select * from filtered_votes_table where CAST(helpful_votes AS FLOAT)/CAST(total_votes AS FLOAT) >=0.5\")\n",
        "helpful_votes_df.show()"
      ],
      "execution_count": 10,
      "outputs": [
        {
          "output_type": "stream",
          "text": [
            "+--------------+-----------+-------------+-----------+----+-----------------+------------+\n",
            "|     review_id|star_rating|helpful_votes|total_votes|vine|verified_purchase|useful_votes|\n",
            "+--------------+-----------+-------------+-----------+----+-----------------+------------+\n",
            "| R4PKAZRQJJX14|          1|           21|         34|   N|                N|        0.62|\n",
            "|R2CI0Y288CC7E2|          1|           21|         35|   N|                Y|         0.6|\n",
            "|R127WEQY2FM1T3|          1|          147|        175|   N|                Y|        0.84|\n",
            "|R2FJ94555FZH32|          2|           55|         60|   N|                N|        0.92|\n",
            "|R1U3AR67RE273L|          1|           51|         65|   N|                Y|        0.78|\n",
            "|R3PZOXA5X1U8KW|          4|           31|         36|   N|                N|        0.86|\n",
            "| R6KTC1OPIOIIG|          2|           19|         34|   N|                Y|        0.56|\n",
            "|R36O341WWXXKNP|          5|           28|         31|   N|                N|         0.9|\n",
            "|R10LZVBLQHBVJ0|          2|          151|        198|   N|                N|        0.76|\n",
            "|R1VR5GLGY1GE7N|          1|           49|         51|   N|                Y|        0.96|\n",
            "|R2OWDAR0EDEPTF|          1|           23|         28|   N|                N|        0.82|\n",
            "|R29BOS5HMAY1LO|          5|           88|        110|   N|                N|         0.8|\n",
            "| R8WD0136CETA7|          2|           99|        119|   N|                N|        0.83|\n",
            "|R16621F16PQN5A|          3|           24|         31|   N|                Y|        0.77|\n",
            "|R1LXBPG1M9DDOC|          1|          102|        106|   N|                N|        0.96|\n",
            "| RNEMGSUKJ4535|          2|           21|         25|   N|                Y|        0.84|\n",
            "|R3R2UKBFKP1IQ4|          1|           19|         23|   N|                Y|        0.83|\n",
            "|R2T90XM5G2DBZA|          3|           15|         22|   N|                Y|        0.68|\n",
            "| R5ZMK0Y0KRBRZ|          1|           79|         91|   N|                N|        0.87|\n",
            "|R12E2W0XOV3I2S|          1|           24|         30|   N|                Y|         0.8|\n",
            "+--------------+-----------+-------------+-----------+----+-----------------+------------+\n",
            "only showing top 20 rows\n",
            "\n"
          ],
          "name": "stdout"
        }
      ]
    },
    {
      "cell_type": "code",
      "metadata": {
        "colab": {
          "base_uri": "https://localhost:8080/"
        },
        "id": "mS4GjdTnimtm",
        "outputId": "48df6cb7-25aa-4862-fa0e-839b5045ae01"
      },
      "source": [
        "# Retrieve rows where the number of helpful_votes divided by total_votes is equal to or greater than 50% (filter function)\n",
        "helpful_votes_df = filtered_votes_df.filter(filtered_votes_df[\"useful_votes\"]>=0.5)\n",
        "helpful_votes_df.show()"
      ],
      "execution_count": 11,
      "outputs": [
        {
          "output_type": "stream",
          "text": [
            "+--------------+-----------+-------------+-----------+----+-----------------+------------+\n",
            "|     review_id|star_rating|helpful_votes|total_votes|vine|verified_purchase|useful_votes|\n",
            "+--------------+-----------+-------------+-----------+----+-----------------+------------+\n",
            "| R4PKAZRQJJX14|          1|           21|         34|   N|                N|        0.62|\n",
            "|R2CI0Y288CC7E2|          1|           21|         35|   N|                Y|         0.6|\n",
            "|R127WEQY2FM1T3|          1|          147|        175|   N|                Y|        0.84|\n",
            "|R2FJ94555FZH32|          2|           55|         60|   N|                N|        0.92|\n",
            "|R1U3AR67RE273L|          1|           51|         65|   N|                Y|        0.78|\n",
            "|R3PZOXA5X1U8KW|          4|           31|         36|   N|                N|        0.86|\n",
            "| R6KTC1OPIOIIG|          2|           19|         34|   N|                Y|        0.56|\n",
            "|R36O341WWXXKNP|          5|           28|         31|   N|                N|         0.9|\n",
            "|R10LZVBLQHBVJ0|          2|          151|        198|   N|                N|        0.76|\n",
            "|R1VR5GLGY1GE7N|          1|           49|         51|   N|                Y|        0.96|\n",
            "|R2OWDAR0EDEPTF|          1|           23|         28|   N|                N|        0.82|\n",
            "|R29BOS5HMAY1LO|          5|           88|        110|   N|                N|         0.8|\n",
            "| R8WD0136CETA7|          2|           99|        119|   N|                N|        0.83|\n",
            "|R16621F16PQN5A|          3|           24|         31|   N|                Y|        0.77|\n",
            "|R1LXBPG1M9DDOC|          1|          102|        106|   N|                N|        0.96|\n",
            "| RNEMGSUKJ4535|          2|           21|         25|   N|                Y|        0.84|\n",
            "|R3R2UKBFKP1IQ4|          1|           19|         23|   N|                Y|        0.83|\n",
            "|R2T90XM5G2DBZA|          3|           15|         22|   N|                Y|        0.68|\n",
            "| R5ZMK0Y0KRBRZ|          1|           79|         91|   N|                N|        0.87|\n",
            "|R12E2W0XOV3I2S|          1|           24|         30|   N|                Y|         0.8|\n",
            "+--------------+-----------+-------------+-----------+----+-----------------+------------+\n",
            "only showing top 20 rows\n",
            "\n"
          ],
          "name": "stdout"
        }
      ]
    },
    {
      "cell_type": "code",
      "metadata": {
        "colab": {
          "base_uri": "https://localhost:8080/"
        },
        "id": "1tpFIIqrvnQY",
        "outputId": "2b4b48be-c8c3-4698-dfc5-45f17503b6c9"
      },
      "source": [
        "# number of vine review (from the filtered dataset)\n",
        "vine_reviews_count = helpful_votes_df.where(helpful_votes_df.vine == 'Y').count()\n",
        "vine_reviews_count"
      ],
      "execution_count": 12,
      "outputs": [
        {
          "output_type": "execute_result",
          "data": {
            "text/plain": [
              "94"
            ]
          },
          "metadata": {
            "tags": []
          },
          "execution_count": 12
        }
      ]
    },
    {
      "cell_type": "code",
      "metadata": {
        "colab": {
          "base_uri": "https://localhost:8080/"
        },
        "id": "Vmy1Lc2VwRza",
        "outputId": "330343be-6d84-4b64-b698-0db910b88428"
      },
      "source": [
        "# number of vine review (from the filtered dataset)\n",
        "non_vine_reviews_count = helpful_votes_df.where(helpful_votes_df.vine == 'N').count()\n",
        "non_vine_reviews_count"
      ],
      "execution_count": 13,
      "outputs": [
        {
          "output_type": "execute_result",
          "data": {
            "text/plain": [
              "40473"
            ]
          },
          "metadata": {
            "tags": []
          },
          "execution_count": 13
        }
      ]
    },
    {
      "cell_type": "code",
      "metadata": {
        "colab": {
          "base_uri": "https://localhost:8080/"
        },
        "id": "pi_TcTQG4yNN",
        "outputId": "75a11c26-6737-4057-bb5e-18cb58b8a432"
      },
      "source": [
        "# Retrieve rows where a review was written as part of the Vine program (paid), vine == 'Y'\n",
        "paid_vine_df = helpful_votes_df.filter(helpful_votes_df[\"vine\"]=='Y')\n",
        "paid_vine_df.show()"
      ],
      "execution_count": 14,
      "outputs": [
        {
          "output_type": "stream",
          "text": [
            "+--------------+-----------+-------------+-----------+----+-----------------+------------+\n",
            "|     review_id|star_rating|helpful_votes|total_votes|vine|verified_purchase|useful_votes|\n",
            "+--------------+-----------+-------------+-----------+----+-----------------+------------+\n",
            "|R3KKUSGFZWSUIY|          5|           56|         63|   Y|                N|        0.89|\n",
            "|R10FO5UKKVZBK2|          3|           23|         23|   Y|                N|         1.0|\n",
            "| RM4KSGEOR7MU1|          5|           19|         24|   Y|                N|        0.79|\n",
            "| RG7VRMYLEXD23|          4|           22|         26|   Y|                N|        0.85|\n",
            "|R11O4YSCPSNL6L|          3|           20|         26|   Y|                N|        0.77|\n",
            "|R286MFBAJ8NPD6|          5|           46|         51|   Y|                N|         0.9|\n",
            "|R1JRR530H4COA2|          5|           22|         28|   Y|                N|        0.79|\n",
            "| RQ5WD90PUNBU9|          5|           21|         24|   Y|                N|        0.88|\n",
            "|R12648VHCQWUV9|          4|           21|         28|   Y|                N|        0.75|\n",
            "|R3KAW29CJ8L6DQ|          5|           17|         20|   Y|                N|        0.85|\n",
            "|R1OWK33OPI45KT|          5|           55|         58|   Y|                N|        0.95|\n",
            "|R2UP7VTED8O425|          5|           35|         41|   Y|                N|        0.85|\n",
            "|R3N4QAXTQCA1ED|          5|           18|         20|   Y|                N|         0.9|\n",
            "|R3EPHK0JGQGE91|          5|           21|         28|   Y|                N|        0.75|\n",
            "| RCP3KRO47S0GG|          4|           51|         58|   Y|                N|        0.88|\n",
            "|R3JT907UUA1WUI|          4|           85|        103|   Y|                N|        0.83|\n",
            "| RY0555ILXIYXW|          5|           38|         50|   Y|                N|        0.76|\n",
            "|R24PS9N276OXF4|          5|          241|        262|   Y|                N|        0.92|\n",
            "|R3R0F8ETAGTIOT|          5|           14|         20|   Y|                N|         0.7|\n",
            "| ROXZOMHBY8Y9S|          4|           21|         23|   Y|                N|        0.91|\n",
            "+--------------+-----------+-------------+-----------+----+-----------------+------------+\n",
            "only showing top 20 rows\n",
            "\n"
          ],
          "name": "stdout"
        }
      ]
    },
    {
      "cell_type": "code",
      "metadata": {
        "colab": {
          "base_uri": "https://localhost:8080/"
        },
        "id": "cTqzt-Uc5JdN",
        "outputId": "642fc8b7-3a8e-424a-f550-892d45f25646"
      },
      "source": [
        "# Retrieve rows where a review was not written as part of the Vine program (unpaid), vine == 'N'\n",
        "unpaid_vine_df = helpful_votes_df.filter(helpful_votes_df[\"vine\"]=='N')\n",
        "unpaid_vine_df.show()"
      ],
      "execution_count": 15,
      "outputs": [
        {
          "output_type": "stream",
          "text": [
            "+--------------+-----------+-------------+-----------+----+-----------------+------------+\n",
            "|     review_id|star_rating|helpful_votes|total_votes|vine|verified_purchase|useful_votes|\n",
            "+--------------+-----------+-------------+-----------+----+-----------------+------------+\n",
            "| R4PKAZRQJJX14|          1|           21|         34|   N|                N|        0.62|\n",
            "|R2CI0Y288CC7E2|          1|           21|         35|   N|                Y|         0.6|\n",
            "|R127WEQY2FM1T3|          1|          147|        175|   N|                Y|        0.84|\n",
            "|R2FJ94555FZH32|          2|           55|         60|   N|                N|        0.92|\n",
            "|R1U3AR67RE273L|          1|           51|         65|   N|                Y|        0.78|\n",
            "|R3PZOXA5X1U8KW|          4|           31|         36|   N|                N|        0.86|\n",
            "| R6KTC1OPIOIIG|          2|           19|         34|   N|                Y|        0.56|\n",
            "|R36O341WWXXKNP|          5|           28|         31|   N|                N|         0.9|\n",
            "|R10LZVBLQHBVJ0|          2|          151|        198|   N|                N|        0.76|\n",
            "|R1VR5GLGY1GE7N|          1|           49|         51|   N|                Y|        0.96|\n",
            "|R2OWDAR0EDEPTF|          1|           23|         28|   N|                N|        0.82|\n",
            "|R29BOS5HMAY1LO|          5|           88|        110|   N|                N|         0.8|\n",
            "| R8WD0136CETA7|          2|           99|        119|   N|                N|        0.83|\n",
            "|R16621F16PQN5A|          3|           24|         31|   N|                Y|        0.77|\n",
            "|R1LXBPG1M9DDOC|          1|          102|        106|   N|                N|        0.96|\n",
            "| RNEMGSUKJ4535|          2|           21|         25|   N|                Y|        0.84|\n",
            "|R3R2UKBFKP1IQ4|          1|           19|         23|   N|                Y|        0.83|\n",
            "|R2T90XM5G2DBZA|          3|           15|         22|   N|                Y|        0.68|\n",
            "| R5ZMK0Y0KRBRZ|          1|           79|         91|   N|                N|        0.87|\n",
            "|R12E2W0XOV3I2S|          1|           24|         30|   N|                Y|         0.8|\n",
            "+--------------+-----------+-------------+-----------+----+-----------------+------------+\n",
            "only showing top 20 rows\n",
            "\n"
          ],
          "name": "stdout"
        }
      ]
    },
    {
      "cell_type": "code",
      "metadata": {
        "colab": {
          "base_uri": "https://localhost:8080/"
        },
        "id": "6gQwqRV55P8l",
        "outputId": "bf01e22b-b68b-4666-fab0-98f5efa6a9d6"
      },
      "source": [
        "# Count total reviews in the filtered dataframe\n",
        "filtered_reviews_count = helpful_votes_df.count()\n",
        "filtered_reviews_count"
      ],
      "execution_count": 16,
      "outputs": [
        {
          "output_type": "execute_result",
          "data": {
            "text/plain": [
              "40567"
            ]
          },
          "metadata": {
            "tags": []
          },
          "execution_count": 16
        }
      ]
    },
    {
      "cell_type": "code",
      "metadata": {
        "colab": {
          "base_uri": "https://localhost:8080/"
        },
        "id": "g7he-5SX5Ut9",
        "outputId": "ffdd00bb-27ac-478c-c7b1-b26b293e2180"
      },
      "source": [
        "# count 5-star reviews from the filtered dataframe\n",
        "five_star_count = helpful_votes_df.where(helpful_votes_df.star_rating == 5).count()\n",
        "five_star_count"
      ],
      "execution_count": 17,
      "outputs": [
        {
          "output_type": "execute_result",
          "data": {
            "text/plain": [
              "15712"
            ]
          },
          "metadata": {
            "tags": []
          },
          "execution_count": 17
        }
      ]
    },
    {
      "cell_type": "code",
      "metadata": {
        "colab": {
          "base_uri": "https://localhost:8080/"
        },
        "id": "pQo9FXO05ZQZ",
        "outputId": "5229175f-cd1f-4674-a8fc-b09d862e5670"
      },
      "source": [
        "# Count unpaid 5-star reviews in the filtered dataframe\n",
        "unpaid_reiews_count = helpful_votes_df.select(\"*\").where((helpful_votes_df.star_rating==5) & (helpful_votes_df.vine=='N')).count()\n",
        "unpaid_reiews_count"
      ],
      "execution_count": 18,
      "outputs": [
        {
          "output_type": "execute_result",
          "data": {
            "text/plain": [
              "15664"
            ]
          },
          "metadata": {
            "tags": []
          },
          "execution_count": 18
        }
      ]
    },
    {
      "cell_type": "code",
      "metadata": {
        "colab": {
          "base_uri": "https://localhost:8080/"
        },
        "id": "sdSZBrlp5cWH",
        "outputId": "cd60f29e-1f2f-40eb-a74d-c779c3fc2ffa"
      },
      "source": [
        "# Count paid 5-star reviews in the filtered dataframe\n",
        "paid_reiews_count = helpful_votes_df.select(\"*\").where((helpful_votes_df.star_rating==5) & (helpful_votes_df.vine=='Y')).count()\n",
        "paid_reiews_count"
      ],
      "execution_count": 19,
      "outputs": [
        {
          "output_type": "execute_result",
          "data": {
            "text/plain": [
              "48"
            ]
          },
          "metadata": {
            "tags": []
          },
          "execution_count": 19
        }
      ]
    },
    {
      "cell_type": "code",
      "metadata": {
        "colab": {
          "base_uri": "https://localhost:8080/"
        },
        "id": "cWBKSM525hNu",
        "outputId": "6bcc6f35-13c9-4341-8873-f9e766d5497b"
      },
      "source": [
        "# Percentage of 5-star reviews that is unpaid\n",
        "unpaid_review_percentage = round((helpful_votes_df.select(\"*\").where((helpful_votes_df.star_rating==5) & \\\n",
        "                                    (helpful_votes_df.vine=='N')).count()/helpful_votes_df.where(helpful_votes_df.vine == 'N').count())*100,2)\n",
        "unpaid_review_percentage"
      ],
      "execution_count": 20,
      "outputs": [
        {
          "output_type": "execute_result",
          "data": {
            "text/plain": [
              "38.7"
            ]
          },
          "metadata": {
            "tags": []
          },
          "execution_count": 20
        }
      ]
    },
    {
      "cell_type": "code",
      "metadata": {
        "colab": {
          "base_uri": "https://localhost:8080/"
        },
        "id": "fVv50NgCfxpU",
        "outputId": "47b8c9b1-a5ea-4f69-8d27-f648b387d3f3"
      },
      "source": [
        "helpful_votes_df.createOrReplaceTempView(\"helpful_votes_table\")\n",
        "effective_votes = spark.sql(\"SELECT ROUND(100.0* x.pcount/y.pcount,2) AS effective_paid FROM\\\n",
        "(SELECT COUNT(*) AS pcount  FROM helpful_votes_table WHERE star_rating = 5 AND vine = 'Y') x JOIN\\\n",
        "(SELECT COUNT(*) AS pcount FROM helpful_votes_table WHERE vine = 'Y') y on 1=1\" )\n",
        "effective_votes.show()"
      ],
      "execution_count": 21,
      "outputs": [
        {
          "output_type": "stream",
          "text": [
            "+--------------+\n",
            "|effective_paid|\n",
            "+--------------+\n",
            "|         51.06|\n",
            "+--------------+\n",
            "\n"
          ],
          "name": "stdout"
        }
      ]
    },
    {
      "cell_type": "code",
      "metadata": {
        "id": "V9Wy8-ny5lQH",
        "colab": {
          "base_uri": "https://localhost:8080/"
        },
        "outputId": "efc0357b-4f7b-4674-eede-5f3eb18d3e50"
      },
      "source": [
        "# Percentage of 5-star reviews that is paid\n",
        "paid_review_percentage = round((helpful_votes_df.select(\"*\").where((helpful_votes_df.star_rating==5) & \\\n",
        "                                    (helpful_votes_df.vine=='Y')).count()/helpful_votes_df.where(helpful_votes_df.vine == 'Y').count())*100,2)\n",
        "paid_review_percentage"
      ],
      "execution_count": 22,
      "outputs": [
        {
          "output_type": "execute_result",
          "data": {
            "text/plain": [
              "51.06"
            ]
          },
          "metadata": {
            "tags": []
          },
          "execution_count": 22
        }
      ]
    },
    {
      "cell_type": "code",
      "metadata": {
        "id": "p3qFunYc5psp",
        "colab": {
          "base_uri": "https://localhost:8080/"
        },
        "outputId": "0f0901c1-bb56-491f-f434-cabeae2fd18a"
      },
      "source": [
        "# table to hold the review analysis\n",
        "review_analysis_df = spark.createDataFrame([\n",
        "                                   (filtered_reviews_count, five_star_count, unpaid_review_percentage, paid_review_percentage)\n",
        "                                   \n",
        "], [\"Total Reviews\", \"Number of 5-star Reviews\", \"Percentage of Paid\", \"Percentage of Unpaid\"])\n",
        "review_analysis_df.show()"
      ],
      "execution_count": 23,
      "outputs": [
        {
          "output_type": "stream",
          "text": [
            "+-------------+------------------------+------------------+--------------------+\n",
            "|Total Reviews|Number of 5-star Reviews|Percentage of Paid|Percentage of Unpaid|\n",
            "+-------------+------------------------+------------------+--------------------+\n",
            "|        40567|                   15712|              38.7|               51.06|\n",
            "+-------------+------------------------+------------------+--------------------+\n",
            "\n"
          ],
          "name": "stdout"
        }
      ]
    }
  ]
}